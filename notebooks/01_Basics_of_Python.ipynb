{
  "nbformat": 4,
  "nbformat_minor": 0,
  "metadata": {
    "colab": {
      "provenance": []
    },
    "kernelspec": {
      "name": "python3",
      "display_name": "Python 3"
    },
    "language_info": {
      "name": "python"
    }
  },
  "cells": [
    {
      "cell_type": "markdown",
      "source": [
        "# 🌟 **We4AI**  \n",
        "**We4AI** is an EdTech platform founded to provide **personalized guidance** and **direct support** for learners in **Artificial Intelligence (AI)** and **Data Science**. Led by **GeekyRahul**, we ensure every student gets the mentorship they deserve.  \n",
        "\n",
        "---\n",
        "\n",
        "## 🚀 **Why Choose We4AI?**  \n",
        "- 📚 **Expertly Designed Courses**: Simplified, practical, and beginner-friendly.  \n",
        "- 🌐 **Personalized Guidance**: Direct support from **GeekyRahul** to answer your doubts.  \n",
        "- 💬 **Community Support**: Join our exclusive **WhatsApp group** for real-time interaction.  \n",
        "\n",
        "---\n",
        "\n",
        "## 💡 **What We Offer**  \n",
        "1. **Beginner-Friendly Content**: Learn Python, Data Science, and AI with ease.  \n",
        "2. **Hands-On Learning**: Practice real-world problems and industry projects.  \n",
        "3. **Exclusive Access**: Direct mentorship and regular Q&A sessions with **GeekyRahul**.  \n",
        "\n",
        "---\n",
        "\n",
        "Python Course Link:\n",
        "- [Python 101: The Data Science Starter Kit](https://www.we4ai.com/page/python)\n",
        "\n",
        "## 📲 **Connect With Us**  \n",
        "\n",
        "💬 **Join Our WhatsApp Group**  \n",
        "Ping us on **+91-9910863611** to get exclusive access to mentorship and support!  \n",
        "\n",
        "📸 **Follow Us on Instagram**  \n",
        "Stay updated with tips and tutorials: [@we4ai_com](https://www.instagram.com/we4ai_com)  \n",
        "\n",
        "▶️ **Subscribe to Our YouTube Channel**  \n",
        "Watch tutorials and career tips: [@we4ai](https://www.youtube.com/@we4ai)  \n"
      ],
      "metadata": {
        "id": "xeZUkReZFB8-"
      }
    },
    {
      "cell_type": "markdown",
      "source": [],
      "metadata": {
        "id": "un5cDSmes4m_"
      }
    },
    {
      "cell_type": "markdown",
      "source": [
        "# 📘 Python Basics - We4AI Course\n",
        "\n",
        "[![Open In Colab](https://colab.research.google.com/assets/colab-badge.svg)](https://colab.research.google.com/drive/1alWGFaVshvLvBvujYOSNx6rqZpg7FM76?usp=sharing)\n"
      ],
      "metadata": {
        "id": "k0rujFndKtYO"
      }
    },
    {
      "cell_type": "markdown",
      "source": [
        "### Indentation in Python\n",
        "\n",
        "Python uses indentation to define blocks of code. Proper indentation is essential for the code to work correctly.\n"
      ],
      "metadata": {
        "id": "JGE8UHGSEQnL"
      }
    },
    {
      "cell_type": "code",
      "execution_count": null,
      "metadata": {
        "colab": {
          "base_uri": "https://localhost:8080/"
        },
        "id": "cbn75Dm2D0jB",
        "outputId": "47831cc0-4df2-434f-8757-a6a869a1a0e0"
      },
      "outputs": [
        {
          "output_type": "stream",
          "name": "stdout",
          "text": [
            "Hello\n",
            "Hello\n",
            "Hello\n",
            "Done\n"
          ]
        }
      ],
      "source": [
        "# Correct indentation\n",
        "for i in range(3):\n",
        "    print(\"Hello\")  # Inside the loop\n",
        "print(\"Done\")  # Outside the loop"
      ]
    },
    {
      "cell_type": "markdown",
      "source": [
        "### Comments in Python\n",
        "- **Single-line comments** start with `#`.\n",
        "- **Multi-line comments** are written inside triple quotes (`\"\"\"`).\n",
        "Comments help describe the purpose of the code but are not executed.\n"
      ],
      "metadata": {
        "id": "Otm-4ur-FY3M"
      }
    },
    {
      "cell_type": "code",
      "source": [
        "# This is a single-line comment\n",
        "print(\"Comments make code readable\")  # Inline comment\n",
        "\n",
        "\"\"\"\n",
        "This is a\n",
        "multi-line comment\n",
        "\"\"\""
      ],
      "metadata": {
        "id": "4c0SYCq8D_ro"
      },
      "execution_count": null,
      "outputs": []
    },
    {
      "cell_type": "markdown",
      "source": [
        "### Variables in Python\n",
        "Variables store data. Python is dynamically typed, so you don’t need to specify the type explicitly.\n"
      ],
      "metadata": {
        "id": "dDq0X2f4FZ0O"
      }
    },
    {
      "cell_type": "code",
      "source": [
        "name = \"Alice\"  # String\n",
        "age = 25        # Integer\n",
        "height = 5.6    # Float\n",
        "print(name, age, height)\n"
      ],
      "metadata": {
        "id": "yWOZJ-rBFiPE"
      },
      "execution_count": null,
      "outputs": []
    },
    {
      "cell_type": "markdown",
      "source": [
        "### Printing Output\n",
        "The `print()` function is used to display output in Python. You can:\n",
        "- Concatenate strings with `+`\n",
        "- Use f-strings for formatted output\n",
        "- Pass multiple arguments to `print()`\n"
      ],
      "metadata": {
        "id": "14zDQKVSFfCW"
      }
    },
    {
      "cell_type": "code",
      "source": [
        "name = \"Alice\"\n",
        "print(\"Hello, \" + name)            # Concatenation\n",
        "print(f\"My name is {name}\")        # f-strings\n",
        "print(\"Name:\", name, \"Age:\", 25)   # Multiple arguments\n"
      ],
      "metadata": {
        "colab": {
          "base_uri": "https://localhost:8080/"
        },
        "id": "kGnKBKpBFfex",
        "outputId": "28884b2c-1817-403d-fe23-7886b21ef0af"
      },
      "execution_count": null,
      "outputs": [
        {
          "output_type": "stream",
          "name": "stdout",
          "text": [
            "Hello, Alice\n",
            "My name is Alice\n",
            "Name: Alice Age: 25\n"
          ]
        }
      ]
    },
    {
      "cell_type": "markdown",
      "source": [
        "### Taking Input\n",
        "The `input()` function is used to take user input. Input is always stored as a string, so you may need to convert it to the required type.\n"
      ],
      "metadata": {
        "id": "_JU6Nn8zFsJ9"
      }
    },
    {
      "cell_type": "code",
      "source": [
        "name = input(\"Enter your name: \")\n",
        "age = int(input(\"Enter your age: \"))\n",
        "print(f\"Hello {name}, you are {age} years old.\")"
      ],
      "metadata": {
        "id": "uYTIeHhFFvnp"
      },
      "execution_count": null,
      "outputs": []
    },
    {
      "cell_type": "markdown",
      "source": [
        "# Support Us:\n",
        "If our guidance has helped you, we graciously accept donations as a way to support our mission and continue providing valuable resources.\n",
        "\n",
        "Your support enables us to create even more personalized content and assist more students on their learning journeys.\n",
        "\n",
        "Donate Here:\n",
        "UPI: we4ai@okicici\n",
        "\n",
        "<img src= \"https://knorishblobstorage-cbbeebf4h6dudbf2.z01.azurefd.net/public/e271958a-15f5-46ef-b488-5158f4560cf7/builderv3/23122024/dd8xo.jpg\" width=\"200\" height=\"200\" />"
      ],
      "metadata": {
        "id": "c_ceukMMiwoW"
      }
    },
    {
      "cell_type": "code",
      "source": [],
      "metadata": {
        "id": "LaS2i5ciiw9g"
      },
      "execution_count": null,
      "outputs": []
    }
  ]
}