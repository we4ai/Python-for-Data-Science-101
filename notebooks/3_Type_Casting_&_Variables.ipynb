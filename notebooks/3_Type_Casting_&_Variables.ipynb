{
  "nbformat": 4,
  "nbformat_minor": 0,
  "metadata": {
    "colab": {
      "provenance": []
    },
    "kernelspec": {
      "name": "python3",
      "display_name": "Python 3"
    },
    "language_info": {
      "name": "python"
    }
  },
  "cells": [
    {
      "cell_type": "markdown",
      "source": [
        "# **Type Casting & Variables**"
      ],
      "metadata": {
        "id": "IbR5Xt0AikBd"
      }
    },
    {
      "cell_type": "markdown",
      "source": [
        "# 🌟 **We4AI**  \n",
        "**We4AI** is an EdTech platform founded to provide **personalized guidance** and **direct support** for learners in **Artificial Intelligence (AI)** and **Data Science**. Led by **GeekyRahul**, we ensure every student gets the mentorship they deserve.  \n",
        "\n",
        "---\n",
        "\n",
        "## 🚀 **Why Choose We4AI?**  \n",
        "- 📚 **Expertly Designed Courses**: Simplified, practical, and beginner-friendly.  \n",
        "- 🌐 **Personalized Guidance**: Direct support from **GeekyRahul** to answer your doubts.  \n",
        "- 💬 **Community Support**: Join our exclusive **WhatsApp group** for real-time interaction.  \n",
        "\n",
        "---\n",
        "\n",
        "## 💡 **What We Offer**  \n",
        "1. **Beginner-Friendly Content**: Learn Python, Data Science, and AI with ease.  \n",
        "2. **Hands-On Learning**: Practice real-world problems and industry projects.  \n",
        "3. **Exclusive Access**: Direct mentorship and regular Q&A sessions with **GeekyRahul**.  \n",
        "\n",
        "---\n",
        "\n",
        "Python Course Link:\n",
        "- [Python 101: The Data Science Starter Kit](https://www.we4ai.com/page/python)\n",
        "\n",
        "## 📲 **Connect With Us**  \n",
        "\n",
        "💬 **Join Our WhatsApp Group**  \n",
        "Ping us on **+91-9910863611** to get exclusive access to mentorship and support!  \n",
        "\n",
        "📸 **Follow Us on Instagram**  \n",
        "Stay updated with tips and tutorials: [@we4ai_com](https://www.instagram.com/we4ai_com)  \n",
        "\n",
        "▶️ **Subscribe to Our YouTube Channel**  \n",
        "Watch tutorials and career tips: [@we4ai](https://www.youtube.com/@we4ai)  \n",
        "\n"
      ],
      "metadata": {
        "id": "xeZUkReZFB8-"
      }
    },
    {
      "cell_type": "markdown",
      "source": [
        "# Type Casting & Variables\n",
        "\n",
        "\n",
        "[![Open In Colab](https://colab.research.google.com/assets/colab-badge.svg)](https://colab.research.google.com/drive/1U2KdZcE4s1gao81aVbP7DZiMcDyxd7iI?usp=sharing)\n"
      ],
      "metadata": {
        "id": "k0rujFndKtYO"
      }
    },
    {
      "cell_type": "markdown",
      "source": [
        "# Typecasting in Python\n",
        "\n",
        "Typecasting in Python refers to the process of converting one data type into another.\n",
        "It can be done explicitly using specific functions or implicitly during operations where Python automatically handles the conversion.\n",
        "\n",
        "Common typecasting functions include `int()`, `float()`, `str()`, and `bool()`. This feature is particularly useful for ensuring compatibility and performing calculations or operations on mixed data types.\n",
        "\n"
      ],
      "metadata": {
        "id": "JGE8UHGSEQnL"
      }
    },
    {
      "cell_type": "code",
      "source": [
        "# Type Casting in Python\n",
        "\n",
        "# 1. Converting to Integer\n",
        "x = 5.7\n",
        "integer_value = int(x)  # Result: 5\n",
        "\n",
        "print(\"int() - Converts to integer\")\n",
        "print(f\"Integer Value: {integer_value}\")"
      ],
      "metadata": {
        "colab": {
          "base_uri": "https://localhost:8080/"
        },
        "id": "sTtkfeY2XJ8N",
        "outputId": "fc127b70-3286-4436-a24e-ddf588966d44"
      },
      "execution_count": null,
      "outputs": [
        {
          "output_type": "stream",
          "name": "stdout",
          "text": [
            "int() - Converts to integer\n",
            "Integer Value: 5\n"
          ]
        }
      ]
    },
    {
      "cell_type": "code",
      "source": [
        "# 2. Converting to Float\n",
        "y = 10\n",
        "float_value = float(y)  # Result: 10.0\n",
        "\n",
        "print(\"float() - Converts to float\")\n",
        "print(f\"Float Value: {float_value}\")\n",
        "\n"
      ],
      "metadata": {
        "id": "6dLsnwpukRiz"
      },
      "execution_count": null,
      "outputs": []
    },
    {
      "cell_type": "code",
      "source": [
        "# 3. Converting to String\n",
        "z = 123\n",
        "string_value = str(z)  # Result: '123'\n",
        "\n",
        "print(\"str() - Converts to string\")\n",
        "print(f\"String Value: {string_value}\")\n",
        "\n"
      ],
      "metadata": {
        "id": "tlgcgZ6rkXBy"
      },
      "execution_count": null,
      "outputs": []
    },
    {
      "cell_type": "code",
      "source": [
        "# 4. Converting to Boolean\n",
        "a = 0\n",
        "boolean_value = bool(a)  # Result: False\n",
        "\n",
        "print(\"bool() - Converts to boolean\")\n",
        "print(f\"Boolean Value: {boolean_value}\")"
      ],
      "metadata": {
        "id": "gv980541kcxT"
      },
      "execution_count": null,
      "outputs": []
    },
    {
      "cell_type": "code",
      "source": [
        "# 5. Automatic Type Conversion\n",
        "num1 = 5\n",
        "num2 = 3.2\n",
        "result = num1 + num2  # Automatic conversion to float: 8.2\n",
        "print(f\"Result (Automatic Conversion): {result}\")"
      ],
      "metadata": {
        "colab": {
          "base_uri": "https://localhost:8080/"
        },
        "id": "F8qlR-lkkf2w",
        "outputId": "a213bde2-d255-452c-a287-416eb03eb3fa"
      },
      "execution_count": null,
      "outputs": [
        {
          "output_type": "stream",
          "name": "stdout",
          "text": [
            "Result (Automatic Conversion): 8.2\n"
          ]
        }
      ]
    },
    {
      "cell_type": "code",
      "source": [
        "# 6. Handling Invalid Conversions\n",
        "try:\n",
        "    invalid_conversion = int(\"abc\")  # Raises ValueError\n",
        "except ValueError as e:\n",
        "    print(f\"Error during conversion: {e}\")"
      ],
      "metadata": {
        "colab": {
          "base_uri": "https://localhost:8080/"
        },
        "id": "ZkIgDqfskk9k",
        "outputId": "3f42c2c2-e70a-4ae2-a623-4df562efc724"
      },
      "execution_count": null,
      "outputs": [
        {
          "output_type": "stream",
          "name": "stdout",
          "text": [
            "Error during conversion: invalid literal for int() with base 10: 'abc'\n"
          ]
        }
      ]
    },
    {
      "cell_type": "code",
      "source": [],
      "metadata": {
        "id": "ILlz5waDmc44"
      },
      "execution_count": null,
      "outputs": []
    },
    {
      "cell_type": "markdown",
      "source": [
        "# Support Us:\n",
        "If our guidance has helped you, we graciously accept donations as a way to support our mission and continue providing valuable resources.\n",
        "\n",
        "Your support enables us to create even more personalized content and assist more students on their learning journeys.\n",
        "\n",
        "Donate Here:\n",
        "UPI: we4ai@okicici\n",
        "\n",
        "<img src= \"https://knorishblobstorage-cbbeebf4h6dudbf2.z01.azurefd.net/public/e271958a-15f5-46ef-b488-5158f4560cf7/builderv3/23122024/dd8xo.jpg\" width=\"200\" height=\"200\" />"
      ],
      "metadata": {
        "id": "Hg3KF2briPzq"
      }
    },
    {
      "cell_type": "code",
      "source": [],
      "metadata": {
        "id": "goeNhjPviQQY"
      },
      "execution_count": null,
      "outputs": []
    }
  ]
}