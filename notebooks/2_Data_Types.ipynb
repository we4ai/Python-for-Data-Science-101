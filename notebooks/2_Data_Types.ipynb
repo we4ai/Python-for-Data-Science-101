{
  "nbformat": 4,
  "nbformat_minor": 0,
  "metadata": {
    "colab": {
      "provenance": []
    },
    "kernelspec": {
      "name": "python3",
      "display_name": "Python 3"
    },
    "language_info": {
      "name": "python"
    }
  },
  "cells": [
    {
      "cell_type": "markdown",
      "source": [
        "# **Data Types in Python**"
      ],
      "metadata": {
        "id": "IbR5Xt0AikBd"
      }
    },
    {
      "cell_type": "markdown",
      "source": [
        "# 🌟 **We4AI**  \n",
        "**We4AI** is an EdTech platform founded to provide **personalized guidance** and **direct support** for learners in **Artificial Intelligence (AI)** and **Data Science**. Led by **GeekyRahul**, we ensure every student gets the mentorship they deserve.  \n",
        "\n",
        "---\n",
        "\n",
        "## 🚀 **Why Choose We4AI?**  \n",
        "- 📚 **Expertly Designed Courses**: Simplified, practical, and beginner-friendly.  \n",
        "- 🌐 **Personalized Guidance**: Direct support from **GeekyRahul** to answer your doubts.  \n",
        "- 💬 **Community Support**: Join our exclusive **WhatsApp group** for real-time interaction.  \n",
        "\n",
        "---\n",
        "\n",
        "## 💡 **What We Offer**  \n",
        "1. **Beginner-Friendly Content**: Learn Python, Data Science, and AI with ease.  \n",
        "2. **Hands-On Learning**: Practice real-world problems and industry projects.  \n",
        "3. **Exclusive Access**: Direct mentorship and regular Q&A sessions with **GeekyRahul**.  \n",
        "\n",
        "---\n",
        "\n",
        "Python Course Link:\n",
        "- [Python 101: The Data Science Starter Kit](https://www.we4ai.com/page/python)\n",
        "\n",
        "## 📲 **Connect With Us**  \n",
        "\n",
        "💬 **Join Our WhatsApp Group**  \n",
        "Ping us on **+91-9910863611** to get exclusive access to mentorship and support!  \n",
        "\n",
        "📸 **Follow Us on Instagram**  \n",
        "Stay updated with tips and tutorials: [@we4ai_com](https://www.instagram.com/we4ai_com)  \n",
        "\n",
        "▶️ **Subscribe to Our YouTube Channel**  \n",
        "Watch tutorials and career tips: [@we4ai](https://www.youtube.com/@we4ai)  \n",
        "\n"
      ],
      "metadata": {
        "id": "xeZUkReZFB8-"
      }
    },
    {
      "cell_type": "markdown",
      "source": [
        "# Data Types in Python\n",
        "\n",
        "[![Open In Colab](https://colab.research.google.com/assets/colab-badge.svg)](https://colab.research.google.com/drive/1B1zSlh0_LaVzldUkboUbOObfF3Z4MiJg?usp=sharing)\n"
      ],
      "metadata": {
        "id": "k0rujFndKtYO"
      }
    },
    {
      "cell_type": "markdown",
      "source": [
        "## Integer (`int`)\n",
        "\n",
        "An integer is a whole number without any decimal or fractional part.\n",
        "\n",
        "```\n",
        "x = 100\n",
        "y = 20\n",
        "```\n"
      ],
      "metadata": {
        "id": "JGE8UHGSEQnL"
      }
    },
    {
      "cell_type": "code",
      "source": [
        "x = 10  # Integer\n",
        "print(x)\n"
      ],
      "metadata": {
        "colab": {
          "base_uri": "https://localhost:8080/"
        },
        "id": "sTtkfeY2XJ8N",
        "outputId": "eac17603-158f-4d95-ce5a-5526fc9be063"
      },
      "execution_count": null,
      "outputs": [
        {
          "output_type": "stream",
          "name": "stdout",
          "text": [
            "10\n"
          ]
        }
      ]
    },
    {
      "cell_type": "code",
      "execution_count": null,
      "metadata": {
        "colab": {
          "base_uri": "https://localhost:8080/"
        },
        "id": "cbn75Dm2D0jB",
        "outputId": "97327527-23a1-4bff-e016-794fa306a1fe"
      },
      "outputs": [
        {
          "output_type": "stream",
          "name": "stdout",
          "text": [
            "1750\n"
          ]
        }
      ],
      "source": [
        "x = 1500  # Large integer for calculations\n",
        "y = 250\n",
        "result = x + y\n",
        "print(result)"
      ]
    },
    {
      "cell_type": "markdown",
      "source": [
        "## Float (`float`)\n",
        "\n",
        "A float represents a number with decimal points. It is used for representing precise or fractional values.\n",
        "```\n",
        "pi = 3.14  # Float\n",
        "```"
      ],
      "metadata": {
        "id": "Otm-4ur-FY3M"
      }
    },
    {
      "cell_type": "code",
      "source": [
        "radius = 7.5  # Radius of a circle\n",
        "area = 3.14 * radius ** 2  # Calculating area using the formula πr²\n",
        "print(f\"The area of the circle is {area}\")\n"
      ],
      "metadata": {
        "id": "4c0SYCq8D_ro",
        "colab": {
          "base_uri": "https://localhost:8080/"
        },
        "outputId": "67e923dc-30ac-4787-d203-f67e1d23d398"
      },
      "execution_count": null,
      "outputs": [
        {
          "output_type": "stream",
          "name": "stdout",
          "text": [
            "The area of the circle is 176.625\n"
          ]
        }
      ]
    },
    {
      "cell_type": "code",
      "source": [
        "radius = 7.5  # Radius of a circle\n",
        "pi = 3.14\n",
        "area = pi * radius ** 2  # Calculating area using the formula πr²\n",
        "print(f\"The area of the circle is {area}\")\n"
      ],
      "metadata": {
        "colab": {
          "base_uri": "https://localhost:8080/"
        },
        "id": "x01pMQWEXtTw",
        "outputId": "293f82c7-04a5-47a7-cca0-964f07b9c681"
      },
      "execution_count": null,
      "outputs": [
        {
          "output_type": "stream",
          "name": "stdout",
          "text": [
            "The area of the circle is 176.625\n"
          ]
        }
      ]
    },
    {
      "cell_type": "markdown",
      "source": [
        "## String (`str`)\n",
        "\n",
        "A string is a sequence of characters enclosed in single, double, or triple quotes. Strings are used for storing and manipulating text.\n",
        "\n",
        "\n",
        "```python\n",
        "greeting = \"Hello, World!\"  # String\n",
        "```"
      ],
      "metadata": {
        "id": "dDq0X2f4FZ0O"
      }
    },
    {
      "cell_type": "code",
      "source": [
        "name = \"GeekyRahul\"  # String variable\n",
        "message = f\"Welcome to We4AI, {name}!\"  # Using an f-string for dynamic text\n",
        "print(message)"
      ],
      "metadata": {
        "id": "yWOZJ-rBFiPE",
        "colab": {
          "base_uri": "https://localhost:8080/"
        },
        "outputId": "21bb55ee-021b-4425-e401-83df297f4032"
      },
      "execution_count": null,
      "outputs": [
        {
          "output_type": "stream",
          "name": "stdout",
          "text": [
            "Welcome to We4AI, GeekyRahul!\n"
          ]
        }
      ]
    },
    {
      "cell_type": "code",
      "source": [
        "# Multi-line string\n",
        "description = \"\"\"We4AI provides:\n",
        "1. Personalized guidance\n",
        "2. Direct support for learners\"\"\"\n",
        "print(description)\n"
      ],
      "metadata": {
        "colab": {
          "base_uri": "https://localhost:8080/"
        },
        "id": "fgj14-nOYFf2",
        "outputId": "3485d152-6120-4b17-c263-ce15b284cefa"
      },
      "execution_count": null,
      "outputs": [
        {
          "output_type": "stream",
          "name": "stdout",
          "text": [
            "We4AI provides:\n",
            "1. Personalized guidance\n",
            "2. Direct support for learners\n"
          ]
        }
      ]
    },
    {
      "cell_type": "markdown",
      "source": [
        "## Boolean (`bool`)\n",
        "\n",
        "A boolean represents one of two values: `True` or `False`. It is often used in conditions and comparisons.\n",
        "```\n",
        "is_python_easy = True  # Boolean\n",
        "```"
      ],
      "metadata": {
        "id": "14zDQKVSFfCW"
      }
    },
    {
      "cell_type": "code",
      "source": [
        "x = 10\n",
        "y = 20\n",
        "check_x_gt_y = x > y  # Boolean\n",
        "print(check_x_gt_y)\n"
      ],
      "metadata": {
        "colab": {
          "base_uri": "https://localhost:8080/"
        },
        "id": "G2Q83xq7YiGd",
        "outputId": "b2366540-691f-45db-eabc-020ee3821b77"
      },
      "execution_count": null,
      "outputs": [
        {
          "output_type": "stream",
          "name": "stdout",
          "text": [
            "False\n"
          ]
        }
      ]
    },
    {
      "cell_type": "code",
      "source": [
        "x = 10\n",
        "y = 20\n",
        "comparison_result = (x < y)  # Check if x is less than y\n",
        "print(comparison_result)\n",
        "\n",
        "# Using boolean in a conditional statement\n",
        "if comparison_result:\n",
        "    print(\"x is less than y\")\n",
        "else:\n",
        "    print(\"x is not less than y\")\n"
      ],
      "metadata": {
        "colab": {
          "base_uri": "https://localhost:8080/"
        },
        "id": "kGnKBKpBFfex",
        "outputId": "ae0175b8-cbfa-4af3-c252-990bb2cfde5d"
      },
      "execution_count": null,
      "outputs": [
        {
          "output_type": "stream",
          "name": "stdout",
          "text": [
            "True\n",
            "x is less than y\n"
          ]
        }
      ]
    },
    {
      "cell_type": "markdown",
      "source": [
        "## List (`list`)\n",
        "\n",
        "A list is an ordered collection of items, which can be of mixed data types. Lists are mutable, meaning they can be changed after creation.\n"
      ],
      "metadata": {
        "id": "_JU6Nn8zFsJ9"
      }
    },
    {
      "cell_type": "code",
      "source": [
        "fruits = [\"apple\", \"banana\", \"cherry\"]  # List of strings\n",
        "print(fruits)\n"
      ],
      "metadata": {
        "id": "uYTIeHhFFvnp",
        "colab": {
          "base_uri": "https://localhost:8080/"
        },
        "outputId": "1c884940-42f4-4f6b-994e-be249f4dcad7"
      },
      "execution_count": null,
      "outputs": [
        {
          "output_type": "stream",
          "name": "stdout",
          "text": [
            "['apple', 'banana', 'cherry']\n"
          ]
        }
      ]
    },
    {
      "cell_type": "code",
      "source": [
        "numbers = [1, 2, 3, 4, 5]  # List of integers\n",
        "squared_numbers = [x *x for x in numbers]  # Using list comprehension to create a new list\n",
        "print(\"Original list:\", numbers)\n",
        "print(\"Squared list:\", squared_numbers)\n",
        "\n",
        "# Modifying a list\n",
        "numbers.append(6)  # Adding an element to the list\n",
        "print(\"Updated list:\", numbers)\n"
      ],
      "metadata": {
        "colab": {
          "base_uri": "https://localhost:8080/"
        },
        "id": "y9bnpDu8Y_J-",
        "outputId": "05a64889-846a-4c9f-8a29-ac4add719d1a"
      },
      "execution_count": null,
      "outputs": [
        {
          "output_type": "stream",
          "name": "stdout",
          "text": [
            "Original list: [1, 2, 3, 4, 5]\n",
            "Squared list: [1, 4, 9, 16, 25]\n",
            "Updated list: [1, 2, 3, 4, 5, 6]\n"
          ]
        }
      ]
    },
    {
      "cell_type": "markdown",
      "source": [
        "## Tuple (`tuple`)\n",
        "\n",
        "A tuple is an ordered, immutable collection of items. Once created, a tuple cannot be modified.\n",
        "\n"
      ],
      "metadata": {
        "id": "j9u6HTQmZa5J"
      }
    },
    {
      "cell_type": "code",
      "source": [
        "coordinates = (10, 20)  # Tuple of integers\n",
        "print(coordinates)\n"
      ],
      "metadata": {
        "colab": {
          "base_uri": "https://localhost:8080/"
        },
        "id": "tTRoAjAbZCGN",
        "outputId": "0ddb894d-285b-41f6-a667-d312b9290f76"
      },
      "execution_count": null,
      "outputs": [
        {
          "output_type": "stream",
          "name": "stdout",
          "text": [
            "(10, 20)\n"
          ]
        }
      ]
    },
    {
      "cell_type": "code",
      "source": [
        "# Creating a tuple of strings\n",
        "colors = (\"red\", \"green\", \"blue\")\n",
        "print(\"Original tuple:\", colors)  # Display the tuple\n",
        "\n",
        "# Accessing the first element of the tuple\n",
        "first_color = colors[0]\n",
        "print(\"First color:\", first_color)  # Display the first color\n",
        "\n",
        "# Creating a nested tuple (a tuple containing other tuples)\n",
        "nested_tuple = ((1, 2), (3, 4), (5, 6))\n",
        "print(\"Nested tuple:\", nested_tuple)  # Display the nested tuple\n",
        "\n",
        "# Accessing the first element of the nested tuple\n",
        "print(\"First element of nested tuple:\", nested_tuple[0])  # Display the first tuple in the nested tuple"
      ],
      "metadata": {
        "colab": {
          "base_uri": "https://localhost:8080/"
        },
        "id": "3dlXV16SZdYa",
        "outputId": "208645f2-6260-4a8f-9ead-a638b5b422b8"
      },
      "execution_count": null,
      "outputs": [
        {
          "output_type": "stream",
          "name": "stdout",
          "text": [
            "Original tuple: ('red', 'green', 'blue')\n",
            "First color: red\n",
            "Nested tuple: ((1, 2), (3, 4), (5, 6))\n",
            "First element of nested tuple: (1, 2)\n"
          ]
        }
      ]
    },
    {
      "cell_type": "markdown",
      "source": [
        "## Set (`set`)\n",
        "\n",
        "A set is an unordered collection of unique items. Sets do not allow duplicate values and are commonly used to perform mathematical set operations like union, intersection, and difference.\n"
      ],
      "metadata": {
        "id": "OhORxnYKZ50Y"
      }
    },
    {
      "cell_type": "code",
      "source": [
        "# Creating a set with some duplicate values\n",
        "unique_numbers = {1, 2, 3, 3, 4}\n",
        "\n",
        "# Duplicate values (3) are removed automatically in the set\n",
        "print(\"Set:\", unique_numbers)  # Output: {1, 2, 3, 4}\n"
      ],
      "metadata": {
        "colab": {
          "base_uri": "https://localhost:8080/"
        },
        "id": "6M_RQCfhZgkQ",
        "outputId": "177835de-b32e-473b-dc39-eb99dd92023a"
      },
      "execution_count": null,
      "outputs": [
        {
          "output_type": "stream",
          "name": "stdout",
          "text": [
            "Set: {1, 2, 3, 4}\n"
          ]
        }
      ]
    },
    {
      "cell_type": "code",
      "source": [
        "# Creating two sets\n",
        "set_a = {1, 2, 3}  # Set containing elements 1, 2, 3\n",
        "set_b = {3, 4, 5}  # Set containing elements 3, 4, 5\n",
        "\n",
        "# Performing the union operation (combines all unique elements from both sets)\n",
        "union_set = set_a | set_b\n",
        "print(\"Union:\", union_set)  # Output: {1, 2, 3, 4, 5}\n",
        "\n",
        "# Performing the intersection operation (finds common elements between sets)\n",
        "intersection_set = set_a & set_b\n",
        "print(\"Intersection:\", intersection_set)  # Output: {3}\n",
        "\n",
        "# Performing the difference operation (elements in set_a that are not in set_b)\n",
        "difference_set = set_a - set_b\n",
        "print(\"Difference:\", difference_set)  # Output: {1, 2}\n"
      ],
      "metadata": {
        "colab": {
          "base_uri": "https://localhost:8080/"
        },
        "id": "j5OmD_-5Z_kL",
        "outputId": "b021b79a-f93d-4b9b-9772-87052dd16d93"
      },
      "execution_count": null,
      "outputs": [
        {
          "output_type": "stream",
          "name": "stdout",
          "text": [
            "Union: {1, 2, 3, 4, 5}\n",
            "Intersection: {3}\n",
            "Difference: {1, 2}\n"
          ]
        }
      ]
    },
    {
      "cell_type": "markdown",
      "source": [
        "## Dictionary (`dict`)\n",
        "\n",
        "A dictionary is a collection of key-value pairs. Each key is unique, and it allows efficient storage and retrieval of data.\n",
        "\n"
      ],
      "metadata": {
        "id": "X-jB52DTaZEz"
      }
    },
    {
      "cell_type": "code",
      "source": [
        "# Creating a dictionary to store student information\n",
        "student = {\"name\": \"Rahul\", \"course\": \"Data Science\"}\n",
        "\n",
        "# Displaying the dictionary\n",
        "print(\"Student Info:\", student)\n"
      ],
      "metadata": {
        "colab": {
          "base_uri": "https://localhost:8080/"
        },
        "id": "hRTbcqC3aCJG",
        "outputId": "04567ce6-cefe-4739-f120-305cfad639a0"
      },
      "execution_count": null,
      "outputs": [
        {
          "output_type": "stream",
          "name": "stdout",
          "text": [
            "Student Info: {'name': 'Rahul', 'course': 'Data Science'}\n"
          ]
        }
      ]
    },
    {
      "cell_type": "code",
      "source": [
        "# Creating a dictionary to store employee details\n",
        "employee = {\n",
        "    \"id\": 101,  # Employee ID\n",
        "    \"name\": \"Alice\",  # Employee name\n",
        "    \"skills\": [\"Python\", \"Machine Learning\", \"Data Analysis\"],  # List of skills\n",
        "    \"details\": {\"department\": \"AI\", \"experience\": 3}  # Nested dictionary\n",
        "}\n",
        "\n",
        "# Accessing and printing values from the dictionary\n",
        "print(\"Employee Name:\", employee[\"name\"])  # Accessing the value for key 'name'\n",
        "print(\"Employee Skills:\", employee[\"skills\"])  # Accessing the value for key 'skills'\n",
        "\n",
        "# Accessing a nested dictionary value\n",
        "print(\"Department:\", employee[\"details\"][\"department\"])  # Accessing 'department' from nested 'details'\n",
        "\n",
        "# Adding a new key-value pair to the dictionary\n",
        "employee[\"salary\"] = 50000  # Adding 'salary' key with a value\n",
        "print(\"Updated Employee Info:\", employee)  # Displaying the updated dictionary\n"
      ],
      "metadata": {
        "colab": {
          "base_uri": "https://localhost:8080/"
        },
        "id": "U9rLjB1Iahsp",
        "outputId": "22021790-3633-4b6d-f506-7c41179e1ae6"
      },
      "execution_count": null,
      "outputs": [
        {
          "output_type": "stream",
          "name": "stdout",
          "text": [
            "Employee Name: Alice\n",
            "Employee Skills: ['Python', 'Machine Learning', 'Data Analysis']\n",
            "Department: AI\n",
            "Updated Employee Info: {'id': 101, 'name': 'Alice', 'skills': ['Python', 'Machine Learning', 'Data Analysis'], 'details': {'department': 'AI', 'experience': 3}, 'salary': 50000}\n"
          ]
        }
      ]
    },
    {
      "cell_type": "markdown",
      "source": [
        "# Support Us:\n",
        "If our guidance has helped you, we graciously accept donations as a way to support our mission and continue providing valuable resources.\n",
        "\n",
        "Your support enables us to create even more personalized content and assist more students on their learning journeys.\n",
        "\n",
        "Donate Here:\n",
        "UPI: we4ai@okicici\n",
        "\n",
        "<img src= \"https://knorishblobstorage-cbbeebf4h6dudbf2.z01.azurefd.net/public/e271958a-15f5-46ef-b488-5158f4560cf7/builderv3/23122024/dd8xo.jpg\" width=\"200\" height=\"200\" />"
      ],
      "metadata": {
        "id": "Hg3KF2briPzq"
      }
    },
    {
      "cell_type": "code",
      "source": [],
      "metadata": {
        "id": "goeNhjPviQQY"
      },
      "execution_count": null,
      "outputs": []
    }
  ]
}