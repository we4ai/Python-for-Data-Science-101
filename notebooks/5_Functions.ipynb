{
  "nbformat": 4,
  "nbformat_minor": 0,
  "metadata": {
    "colab": {
      "provenance": []
    },
    "kernelspec": {
      "name": "python3",
      "display_name": "Python 3"
    },
    "language_info": {
      "name": "python"
    }
  },
  "cells": [
    {
      "cell_type": "markdown",
      "source": [
        "# **Functions in Python**"
      ],
      "metadata": {
        "id": "IbR5Xt0AikBd"
      }
    },
    {
      "cell_type": "markdown",
      "source": [
        "# 🌟 **We4AI**  \n",
        "**We4AI** is an EdTech platform founded to provide **personalized guidance** and **direct support** for learners in **Artificial Intelligence (AI)** and **Data Science**. Led by **GeekyRahul**, we ensure every student gets the mentorship they deserve.  \n",
        "\n",
        "---\n",
        "\n",
        "## 🚀 **Why Choose We4AI?**  \n",
        "- 📚 **Expertly Designed Courses**: Simplified, practical, and beginner-friendly.  \n",
        "- 🌐 **Personalized Guidance**: Direct support from **GeekyRahul** to answer your doubts.  \n",
        "- 💬 **Community Support**: Join our exclusive **WhatsApp group** for real-time interaction.  \n",
        "\n",
        "---\n",
        "\n",
        "## 💡 **What We Offer**  \n",
        "1. **Beginner-Friendly Content**: Learn Python, Data Science, and AI with ease.  \n",
        "2. **Hands-On Learning**: Practice real-world problems and industry projects.  \n",
        "3. **Exclusive Access**: Direct mentorship and regular Q&A sessions with **GeekyRahul**.  \n",
        "\n",
        "---\n",
        "\n",
        "Python Course Link:\n",
        "- [Python 101: The Data Science Starter Kit](https://www.we4ai.com/page/python)\n",
        "\n",
        "## 📲 **Connect With Us**  \n",
        "\n",
        "💬 **Join Our WhatsApp Group**  \n",
        "Ping us on **+91-9910863611** to get exclusive access to mentorship and support!  \n",
        "\n",
        "📸 **Follow Us on Instagram**  \n",
        "Stay updated with tips and tutorials: [@we4ai_com](https://www.instagram.com/we4ai_com)  \n",
        "\n",
        "▶️ **Subscribe to Our YouTube Channel**  \n",
        "Watch tutorials and career tips: [@we4ai](https://www.youtube.com/@we4ai)  \n",
        "\n"
      ],
      "metadata": {
        "id": "xeZUkReZFB8-"
      }
    },
    {
      "cell_type": "markdown",
      "source": [
        "# Functions in Python\n",
        "[![Open In Colab](https://colab.research.google.com/assets/colab-badge.svg)](https://colab.research.google.com/drive/1QpNn9Qc9z4JfnIQsyXdaQVj6WeOO8204?usp=sharing)\n"
      ],
      "metadata": {
        "id": "k0rujFndKtYO"
      }
    },
    {
      "cell_type": "markdown",
      "source": [
        "## Introduction to Functions\n",
        "Functions are like kitchen appliances - you provide ingredients (inputs), they perform specific tasks, and give finished dishes (outputs).\n"
      ],
      "metadata": {
        "id": "JGE8UHGSEQnL"
      }
    },
    {
      "cell_type": "code",
      "source": [
        "# Simple function example\n",
        "def greet():\n",
        "    print(\"Hello from Python functions!\")\n",
        "\n",
        "greet()  # Calling the function\n"
      ],
      "metadata": {
        "colab": {
          "base_uri": "https://localhost:8080/"
        },
        "id": "sTtkfeY2XJ8N",
        "outputId": "d4f44269-bb43-4b01-aba1-b82bc254743d"
      },
      "execution_count": null,
      "outputs": [
        {
          "output_type": "stream",
          "name": "stdout",
          "text": [
            "Hello from Python functions!\n"
          ]
        }
      ]
    },
    {
      "cell_type": "markdown",
      "source": [
        "## Function Parameters and Arguments\n",
        "Key Concept: Inputs for customization"
      ],
      "metadata": {
        "id": "Otm-4ur-FY3M"
      }
    },
    {
      "cell_type": "code",
      "source": [
        "def personal_greet(name):  # Parameter\n",
        "    print(f\"Hello, {name}! Ready to learn functions?\")\n",
        "\n",
        "personal_greet(\"Alex\")  # Argument\n",
        "personal_greet(\"Maria\")\n"
      ],
      "metadata": {
        "id": "4c0SYCq8D_ro",
        "colab": {
          "base_uri": "https://localhost:8080/"
        },
        "outputId": "1e815d23-6eba-44fc-f4fe-eb33a10a787a"
      },
      "execution_count": null,
      "outputs": [
        {
          "output_type": "stream",
          "name": "stdout",
          "text": [
            "Hello, Alex! Ready to learn functions?\n",
            "Hello, Maria! Ready to learn functions?\n"
          ]
        }
      ]
    },
    {
      "cell_type": "markdown",
      "source": [
        "## Exercise 1 (Solution hidden):\n",
        "Create a function square_num that takes a number and prints its square\n",
        "💡 Hint: Use the exponent operator `**` <details> <summary>Solution</summary>\n",
        "```\n",
        "def square_num(n):\n",
        "    print(n ** 2)\n",
        "\n",
        "square_num(5)  # Output: 25\n",
        "```"
      ],
      "metadata": {
        "id": "CsOY30SVhzZs"
      }
    },
    {
      "cell_type": "code",
      "source": [],
      "metadata": {
        "id": "x01pMQWEXtTw"
      },
      "execution_count": null,
      "outputs": []
    },
    {
      "cell_type": "markdown",
      "source": [
        "## Return Values\n",
        "Key Difference: print vs return"
      ],
      "metadata": {
        "id": "Tcmg_gtoiHPM"
      }
    },
    {
      "cell_type": "code",
      "source": [
        "# Temperature converter\n",
        "def celsius_to_fahrenheit(c):\n",
        "    return (c * 9/5) + 32\n",
        "\n",
        "print(f\"32°C = {celsius_to_fahrenheit(32)}°F\")\n"
      ],
      "metadata": {
        "colab": {
          "base_uri": "https://localhost:8080/"
        },
        "id": "_Dq7nEHUiJbP",
        "outputId": "0cd1c65c-22d1-4382-dc46-bb188f03a710"
      },
      "execution_count": null,
      "outputs": [
        {
          "output_type": "stream",
          "name": "stdout",
          "text": [
            "32°C = 89.6°F\n"
          ]
        }
      ]
    },
    {
      "cell_type": "markdown",
      "source": [
        "## Function Best Practices\n",
        "From expert recommendations:\n",
        "- Clear Names: calculate_area() instead of ca()\n",
        "- Single Responsibility: One task per function\n",
        "- Documentation: Use docstrings\n"
      ],
      "metadata": {
        "id": "mlNfNh95iRC2"
      }
    },
    {
      "cell_type": "code",
      "source": [
        "def rectangle_area(length, width):\n",
        "    \"\"\"\n",
        "    Calculate area of rectangle\n",
        "\n",
        "    Parameters:\n",
        "    length (float): side length\n",
        "    width (float): side width\n",
        "\n",
        "    Returns:\n",
        "    float: calculated area\n",
        "    \"\"\"\n",
        "    return length * width\n",
        "\n",
        "print(rectangle_area(4, 5))  # 20\n"
      ],
      "metadata": {
        "colab": {
          "base_uri": "https://localhost:8080/"
        },
        "id": "bc4rf_qZiZ7w",
        "outputId": "c7c81162-9ccd-449f-b370-175f0f1c134b"
      },
      "execution_count": null,
      "outputs": [
        {
          "output_type": "stream",
          "name": "stdout",
          "text": [
            "20\n"
          ]
        }
      ]
    },
    {
      "cell_type": "markdown",
      "source": [
        "## Interactive Exercise Section\n",
        "Challenge: Create a grade calculator\n",
        "```\n",
        "# Exercise Framework\n",
        "def calculate_grade(score):\n",
        "    # Your code here\n",
        "    pass\n",
        "\n",
        "# Test your function\n",
        "print(calculate_grade(85))  # Should return 'B'\n",
        "```\n",
        "<details> <summary>Suggested Approach</summary>\n",
        "- Use if-elif-else structure\n",
        "- Consider grade boundaries: A(90-100), B(80-89), etc.\n",
        "- Return grade letter as string\n",
        "</details>\n"
      ],
      "metadata": {
        "id": "FWzuyuijiiPK"
      }
    },
    {
      "cell_type": "code",
      "source": [
        "def calculate_grade(score):\n",
        "    if score >= 90:\n",
        "        return 'A'\n",
        "    elif score >= 80:\n",
        "        return 'B'\n",
        "    elif score >= 70:\n",
        "        return 'C'\n",
        "    elif score >= 60:\n",
        "        return 'D'\n",
        "    else:\n",
        "        return 'F'\n",
        "\n",
        "# Test your function\n",
        "print(calculate_grade(85))  # Should return 'B'\n",
        "print(calculate_grade(92))  # Should return 'A'\n",
        "print(calculate_grade(75))  # Should return 'C'\n",
        "print(calculate_grade(65))  # Should return 'D'\n",
        "print(calculate_grade(55))  # Should return 'F'\n"
      ],
      "metadata": {
        "id": "qAZ-LaGeo0b2"
      },
      "execution_count": null,
      "outputs": []
    },
    {
      "cell_type": "markdown",
      "source": [
        "## Prime Number Checker\n",
        "Problem: Write is_prime(n) that returns True if number is prime\n",
        "<details> <summary>Hint</summary>\n",
        "\n",
        "![](https://www.wikihow.com/images/thumb/a/a3/Check-if-a-Number-Is-Prime-Step-1-Version-4.jpg/v4-460px-Check-if-a-Number-Is-Prime-Step-1-Version-4.jpg.webp)"
      ],
      "metadata": {
        "id": "2IOq-rKFjFRB"
      }
    },
    {
      "cell_type": "code",
      "source": [
        "def is_prime(n):\n",
        "    if n <= 1:\n",
        "        return False\n",
        "    for i in range(2, int(n**0.5)+1):\n",
        "        if n % i == 0:\n",
        "            return False\n",
        "    return True\n"
      ],
      "metadata": {
        "id": "u7ktXqtcjqxN"
      },
      "execution_count": null,
      "outputs": []
    },
    {
      "cell_type": "markdown",
      "source": [
        "## String Reverser\n",
        "Problem: Implement reverse_string(text) using string slicing"
      ],
      "metadata": {
        "id": "tbAHFxuikDuU"
      }
    },
    {
      "cell_type": "code",
      "source": [
        "def reverse_string(s):\n",
        "    return s[::-1]\n",
        "\n",
        "# Example usage\n",
        "input_string = \"Hello, World!\"\n",
        "reversed_string = reverse_string(input_string)\n",
        "print(reversed_string)  # Output: !dlroW ,olleH"
      ],
      "metadata": {
        "id": "01vCTqKAkC1w"
      },
      "execution_count": null,
      "outputs": []
    },
    {
      "cell_type": "markdown",
      "source": [
        "## String Reverser\n",
        "Problem: Implement reverse_string(text) without using [::-1]"
      ],
      "metadata": {
        "id": "33ULTX2pkOY1"
      }
    },
    {
      "cell_type": "code",
      "source": [
        "def reverse_string(s):\n",
        "    return ''.join(reversed(s))"
      ],
      "metadata": {
        "id": "6YwgaVMzkTu4"
      },
      "execution_count": null,
      "outputs": []
    },
    {
      "cell_type": "markdown",
      "source": [
        "## Variable Arguments Function\n",
        "Problem: Create print_details() that accepts any number of keyword arguments and prints them as \"key: value\" pairs"
      ],
      "metadata": {
        "id": "ltRUCt8akCgM"
      }
    },
    {
      "cell_type": "code",
      "source": [
        "def print_details(**kwargs):\n",
        "    for key, value in kwargs.items():\n",
        "        print(f\"{key}: {value}\")\n",
        "\n",
        "print_details(name=\"Sarah\", age=28, city=\"London\")\n"
      ],
      "metadata": {
        "colab": {
          "base_uri": "https://localhost:8080/"
        },
        "id": "KSB7Crmlke0v",
        "outputId": "bb3a5765-ed3c-4c58-ffa7-0d12bb63352c"
      },
      "execution_count": null,
      "outputs": [
        {
          "output_type": "stream",
          "name": "stdout",
          "text": [
            "name: Sarah\n",
            "age: 28\n",
            "city: London\n"
          ]
        }
      ]
    },
    {
      "cell_type": "markdown",
      "source": [
        "## Exercise\n",
        "Problem: Write a program to check if a number is even or odd using the modulus operator.\n"
      ],
      "metadata": {
        "id": "WOFfRnFozNFO"
      }
    },
    {
      "cell_type": "code",
      "source": [],
      "metadata": {
        "id": "YmVfs-bbzONB"
      },
      "execution_count": null,
      "outputs": []
    },
    {
      "cell_type": "markdown",
      "source": [
        "# Support Us:\n",
        "If our guidance has helped you, we graciously accept donations as a way to support our mission and continue providing valuable resources.\n",
        "\n",
        "Your support enables us to create even more personalized content and assist more students on their learning journeys.\n",
        "\n",
        "Donate Here:\n",
        "UPI: we4ai@okicici\n",
        "\n",
        "<img src= \"https://knorishblobstorage-cbbeebf4h6dudbf2.z01.azurefd.net/public/e271958a-15f5-46ef-b488-5158f4560cf7/builderv3/23122024/dd8xo.jpg\" width=\"200\" height=\"200\" />"
      ],
      "metadata": {
        "id": "Hg3KF2briPzq"
      }
    },
    {
      "cell_type": "code",
      "source": [],
      "metadata": {
        "id": "goeNhjPviQQY"
      },
      "execution_count": null,
      "outputs": []
    }
  ]
}